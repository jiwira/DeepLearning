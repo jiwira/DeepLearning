{
  "nbformat": 4,
  "nbformat_minor": 0,
  "metadata": {
    "colab": {
      "name": "CNN-CatDog-Classification.ipynb",
      "provenance": [],
      "mount_file_id": "1HO19QWAQR4rm0gd9JYWYmMGCaZWQfypJ",
      "authorship_tag": "ABX9TyORAAYtz2O4NfZaxY6yuFHd",
      "include_colab_link": true
    },
    "kernelspec": {
      "name": "python3",
      "display_name": "Python 3"
    },
    "language_info": {
      "name": "python"
    }
  },
  "cells": [
    {
      "cell_type": "markdown",
      "metadata": {
        "id": "view-in-github",
        "colab_type": "text"
      },
      "source": [
        "<a href=\"https://colab.research.google.com/github/jiwira/DeepLearning/blob/main/CNN_CatDog_Classification.ipynb\" target=\"_parent\"><img src=\"https://colab.research.google.com/assets/colab-badge.svg\" alt=\"Open In Colab\"/></a>"
      ]
    },
    {
      "cell_type": "code",
      "execution_count": null,
      "metadata": {
        "id": "cNS3Ca2hrEvF"
      },
      "outputs": [],
      "source": [
        "import tensorflow as tf\n",
        "from keras.preprocessing.image import ImageDataGenerator"
      ]
    },
    {
      "cell_type": "code",
      "source": [
        "tf.__version__"
      ],
      "metadata": {
        "colab": {
          "base_uri": "https://localhost:8080/",
          "height": 35
        },
        "id": "m0JvsF8brU9k",
        "outputId": "1a6d4110-9334-4402-b85e-5e60b931991e"
      },
      "execution_count": null,
      "outputs": [
        {
          "output_type": "execute_result",
          "data": {
            "text/plain": [
              "'2.8.0'"
            ],
            "application/vnd.google.colaboratory.intrinsic+json": {
              "type": "string"
            }
          },
          "metadata": {},
          "execution_count": 2
        }
      ]
    },
    {
      "cell_type": "markdown",
      "source": [
        "Part 1 - Data Preprocessing"
      ],
      "metadata": {
        "id": "9zYB2yJhra9y"
      }
    },
    {
      "cell_type": "markdown",
      "source": [
        "PreProcessing the Training Set"
      ],
      "metadata": {
        "id": "nGZvNUvArgJB"
      }
    },
    {
      "cell_type": "code",
      "source": [
        "train_datagen = ImageDataGenerator(\n",
        "    rescale = 1./255,\n",
        "    shear_range = 0.2,\n",
        "    zoom_range = 0.2,\n",
        "    horizontal_flip = True\n",
        ")\n",
        "\n",
        "training_set = train_datagen.flow_from_directory( \n",
        "    'drive/MyDrive/Study/Superdatascience/resources/dataset/training_set',\n",
        "    target_size = (64, 64),\n",
        "    batch_size = 32,\n",
        "    class_mode = 'binary'\n",
        ")\n",
        "\n"
      ],
      "metadata": {
        "colab": {
          "base_uri": "https://localhost:8080/"
        },
        "id": "54jHno85wf3v",
        "outputId": "9ef9abd0-950d-4719-864f-9402ffe9f504"
      },
      "execution_count": null,
      "outputs": [
        {
          "output_type": "stream",
          "name": "stdout",
          "text": [
            "Found 8000 images belonging to 2 classes.\n"
          ]
        }
      ]
    },
    {
      "cell_type": "markdown",
      "source": [
        "PreProcessing the Test Set"
      ],
      "metadata": {
        "id": "-evkYuBurih6"
      }
    },
    {
      "cell_type": "code",
      "source": [
        "test_datagen = ImageDataGenerator(\n",
        "    rescale = 1./255\n",
        ")\n",
        "\n",
        "test_set = train_datagen.flow_from_directory(\n",
        "    'drive/MyDrive/Study/Superdatascience/resources/dataset/test_set',\n",
        "    target_size = (64, 64),\n",
        "    batch_size = 32,\n",
        "    class_mode = 'binary'\n",
        ")"
      ],
      "metadata": {
        "colab": {
          "base_uri": "https://localhost:8080/"
        },
        "id": "tiBt63ZUrfJ7",
        "outputId": "ea4f17cb-7f4a-4843-93d4-77907abb8d8a"
      },
      "execution_count": null,
      "outputs": [
        {
          "output_type": "stream",
          "name": "stdout",
          "text": [
            "Found 2000 images belonging to 2 classes.\n"
          ]
        }
      ]
    },
    {
      "cell_type": "markdown",
      "source": [
        "Part 2 Building the CNN"
      ],
      "metadata": {
        "id": "bfW2g2Z-xpS9"
      }
    },
    {
      "cell_type": "markdown",
      "source": [
        "Initializing the CNN"
      ],
      "metadata": {
        "id": "ZvL3gSGUyPn6"
      }
    },
    {
      "cell_type": "code",
      "source": [
        "cnn = tf.keras.models.Sequential()"
      ],
      "metadata": {
        "id": "QXK69WsYyNEY"
      },
      "execution_count": null,
      "outputs": []
    },
    {
      "cell_type": "markdown",
      "source": [
        "Step 1 Convolution"
      ],
      "metadata": {
        "id": "I3a-f31xxsCV"
      }
    },
    {
      "cell_type": "code",
      "source": [
        "cnn.add(tf.keras.layers.Conv2D(\n",
        "    filters = 32, \n",
        "    kernel_size = 3,\n",
        "    activation='relu',\n",
        "    input_shape=[64, 64, 3]\n",
        "))"
      ],
      "metadata": {
        "id": "Pem6cSGhzbxR"
      },
      "execution_count": null,
      "outputs": []
    },
    {
      "cell_type": "markdown",
      "source": [
        "Step 2 Pooling"
      ],
      "metadata": {
        "id": "1roVQvonxtTh"
      }
    },
    {
      "cell_type": "code",
      "source": [
        "cnn.add(tf.keras.layers.MaxPool2D(\n",
        "    pool_size = 2,\n",
        "    strides = 2\n",
        "))"
      ],
      "metadata": {
        "id": "UnbJjycW0ZCt"
      },
      "execution_count": null,
      "outputs": []
    },
    {
      "cell_type": "markdown",
      "source": [
        "Adding a second Convolution Layer"
      ],
      "metadata": {
        "id": "IzDnki3Oxuu6"
      }
    },
    {
      "cell_type": "code",
      "source": [
        "cnn.add(tf.keras.layers.Conv2D(\n",
        "    filters = 32, \n",
        "    kernel_size = 3,\n",
        "    activation='relu'\n",
        "))\n",
        "\n",
        "cnn.add(tf.keras.layers.MaxPool2D(\n",
        "    pool_size = 2,\n",
        "    strides = 2\n",
        "))"
      ],
      "metadata": {
        "id": "DcamZl2R1J-W"
      },
      "execution_count": null,
      "outputs": []
    },
    {
      "cell_type": "markdown",
      "source": [
        "Step 3 Flattening"
      ],
      "metadata": {
        "id": "UVf_xo5Dxx03"
      }
    },
    {
      "cell_type": "code",
      "source": [
        "cnn.add(tf.keras.layers.Flatten())"
      ],
      "metadata": {
        "id": "RLCh15GJ1T0t"
      },
      "execution_count": null,
      "outputs": []
    },
    {
      "cell_type": "markdown",
      "source": [
        "Step 4 Full Connection"
      ],
      "metadata": {
        "id": "k3JkcvAKxzfM"
      }
    },
    {
      "cell_type": "code",
      "source": [
        "cnn.add(tf.keras.layers.Dense(units=128, activation='relu'))"
      ],
      "metadata": {
        "id": "NWjdkRvjwbI1"
      },
      "execution_count": null,
      "outputs": []
    },
    {
      "cell_type": "markdown",
      "source": [
        "Step 5 - Output Layer"
      ],
      "metadata": {
        "id": "aPkJvX4nx03B"
      }
    },
    {
      "cell_type": "code",
      "source": [
        "cnn.add(tf.keras.layers.Dense(units=1, activation='sigmoid'))"
      ],
      "metadata": {
        "id": "rbxt1iBexbKO"
      },
      "execution_count": null,
      "outputs": []
    },
    {
      "cell_type": "markdown",
      "source": [
        "Part 3 - Training the CNN"
      ],
      "metadata": {
        "id": "QhVtdZIDyKyi"
      }
    },
    {
      "cell_type": "markdown",
      "source": [
        "Compiling the CNN "
      ],
      "metadata": {
        "id": "19aA1ovcyMtT"
      }
    },
    {
      "cell_type": "code",
      "source": [
        "cnn.compile(\n",
        "    optimizer = 'adam', \n",
        "    loss = 'binary_crossentropy',\n",
        "    metrics = ['accuracy'])"
      ],
      "metadata": {
        "id": "rfwN4lr7yWgt"
      },
      "execution_count": null,
      "outputs": []
    },
    {
      "cell_type": "markdown",
      "source": [
        "Training the CNN on the Training Set and evaluating it on the Test Set"
      ],
      "metadata": {
        "id": "iiTpBh0eyOTW"
      }
    },
    {
      "cell_type": "code",
      "source": [
        "cnn.fit(\n",
        "    x = training_set, \n",
        "    validation_data = test_set,\n",
        "    epochs = 50\n",
        ")"
      ],
      "metadata": {
        "colab": {
          "base_uri": "https://localhost:8080/"
        },
        "id": "ftKIROjuzAE3",
        "outputId": "671415ba-f251-4786-be7b-82b96c5963e2"
      },
      "execution_count": null,
      "outputs": [
        {
          "output_type": "stream",
          "name": "stdout",
          "text": [
            "Epoch 1/50\n",
            "250/250 [==============================] - 72s 288ms/step - loss: 0.0304 - accuracy: 0.9896 - val_loss: 1.2666 - val_accuracy: 0.7845\n",
            "Epoch 2/50\n",
            "250/250 [==============================] - 72s 289ms/step - loss: 0.0415 - accuracy: 0.9860 - val_loss: 1.2406 - val_accuracy: 0.7775\n",
            "Epoch 3/50\n",
            "250/250 [==============================] - 71s 285ms/step - loss: 0.0394 - accuracy: 0.9868 - val_loss: 1.2057 - val_accuracy: 0.7770\n",
            "Epoch 4/50\n",
            "250/250 [==============================] - 72s 286ms/step - loss: 0.0365 - accuracy: 0.9870 - val_loss: 1.2039 - val_accuracy: 0.7920\n",
            "Epoch 5/50\n",
            "250/250 [==============================] - 74s 295ms/step - loss: 0.0346 - accuracy: 0.9883 - val_loss: 1.1826 - val_accuracy: 0.7790\n",
            "Epoch 6/50\n",
            "250/250 [==============================] - 74s 297ms/step - loss: 0.0361 - accuracy: 0.9880 - val_loss: 1.3736 - val_accuracy: 0.7785\n",
            "Epoch 7/50\n",
            "250/250 [==============================] - 73s 294ms/step - loss: 0.0350 - accuracy: 0.9881 - val_loss: 1.1931 - val_accuracy: 0.7950\n",
            "Epoch 8/50\n",
            "250/250 [==============================] - 75s 301ms/step - loss: 0.0396 - accuracy: 0.9866 - val_loss: 1.2269 - val_accuracy: 0.7760\n",
            "Epoch 9/50\n",
            "250/250 [==============================] - 74s 296ms/step - loss: 0.0317 - accuracy: 0.9877 - val_loss: 1.4392 - val_accuracy: 0.7695\n",
            "Epoch 10/50\n",
            "250/250 [==============================] - 73s 293ms/step - loss: 0.0315 - accuracy: 0.9876 - val_loss: 1.3506 - val_accuracy: 0.7805\n",
            "Epoch 11/50\n",
            "250/250 [==============================] - 72s 287ms/step - loss: 0.0306 - accuracy: 0.9893 - val_loss: 1.3724 - val_accuracy: 0.7705\n",
            "Epoch 12/50\n",
            "250/250 [==============================] - 72s 287ms/step - loss: 0.0431 - accuracy: 0.9849 - val_loss: 1.2141 - val_accuracy: 0.7890\n",
            "Epoch 13/50\n",
            "250/250 [==============================] - 75s 299ms/step - loss: 0.0469 - accuracy: 0.9829 - val_loss: 1.2764 - val_accuracy: 0.7870\n",
            "Epoch 14/50\n",
            "250/250 [==============================] - 73s 290ms/step - loss: 0.0254 - accuracy: 0.9910 - val_loss: 1.2624 - val_accuracy: 0.7925\n",
            "Epoch 15/50\n",
            "250/250 [==============================] - 76s 304ms/step - loss: 0.0414 - accuracy: 0.9849 - val_loss: 1.3117 - val_accuracy: 0.7830\n",
            "Epoch 16/50\n",
            "250/250 [==============================] - 72s 290ms/step - loss: 0.0346 - accuracy: 0.9877 - val_loss: 1.2784 - val_accuracy: 0.7985\n",
            "Epoch 17/50\n",
            "250/250 [==============================] - 72s 288ms/step - loss: 0.0267 - accuracy: 0.9920 - val_loss: 1.2324 - val_accuracy: 0.7820\n",
            "Epoch 18/50\n",
            "250/250 [==============================] - 73s 291ms/step - loss: 0.0301 - accuracy: 0.9901 - val_loss: 1.4423 - val_accuracy: 0.7970\n",
            "Epoch 19/50\n",
            "250/250 [==============================] - 73s 291ms/step - loss: 0.0387 - accuracy: 0.9881 - val_loss: 1.3142 - val_accuracy: 0.7855\n",
            "Epoch 20/50\n",
            "250/250 [==============================] - 72s 286ms/step - loss: 0.0268 - accuracy: 0.9898 - val_loss: 1.3092 - val_accuracy: 0.7905\n",
            "Epoch 21/50\n",
            "250/250 [==============================] - 72s 286ms/step - loss: 0.0302 - accuracy: 0.9905 - val_loss: 1.3337 - val_accuracy: 0.7795\n",
            "Epoch 22/50\n",
            "250/250 [==============================] - 71s 286ms/step - loss: 0.0229 - accuracy: 0.9926 - val_loss: 1.2579 - val_accuracy: 0.7965\n",
            "Epoch 23/50\n",
            "250/250 [==============================] - 72s 288ms/step - loss: 0.0255 - accuracy: 0.9898 - val_loss: 1.4781 - val_accuracy: 0.7645\n",
            "Epoch 24/50\n",
            "250/250 [==============================] - 71s 285ms/step - loss: 0.0315 - accuracy: 0.9891 - val_loss: 1.4605 - val_accuracy: 0.7860\n",
            "Epoch 25/50\n",
            "250/250 [==============================] - 72s 287ms/step - loss: 0.0369 - accuracy: 0.9877 - val_loss: 1.3069 - val_accuracy: 0.7790\n",
            "Epoch 26/50\n",
            "250/250 [==============================] - 72s 289ms/step - loss: 0.0286 - accuracy: 0.9900 - val_loss: 1.3499 - val_accuracy: 0.7875\n",
            "Epoch 27/50\n",
            "250/250 [==============================] - 71s 283ms/step - loss: 0.0352 - accuracy: 0.9865 - val_loss: 1.5245 - val_accuracy: 0.7765\n",
            "Epoch 28/50\n",
            "250/250 [==============================] - 73s 292ms/step - loss: 0.0406 - accuracy: 0.9866 - val_loss: 1.3231 - val_accuracy: 0.7855\n",
            "Epoch 29/50\n",
            "250/250 [==============================] - 72s 288ms/step - loss: 0.0314 - accuracy: 0.9886 - val_loss: 1.2907 - val_accuracy: 0.7755\n",
            "Epoch 30/50\n",
            "250/250 [==============================] - 72s 289ms/step - loss: 0.0291 - accuracy: 0.9911 - val_loss: 1.3724 - val_accuracy: 0.7805\n",
            "Epoch 31/50\n",
            "250/250 [==============================] - 72s 288ms/step - loss: 0.0384 - accuracy: 0.9856 - val_loss: 1.4196 - val_accuracy: 0.7755\n",
            "Epoch 32/50\n",
            "250/250 [==============================] - 73s 292ms/step - loss: 0.0392 - accuracy: 0.9864 - val_loss: 1.2524 - val_accuracy: 0.7895\n",
            "Epoch 33/50\n",
            "250/250 [==============================] - 71s 283ms/step - loss: 0.0344 - accuracy: 0.9890 - val_loss: 1.2654 - val_accuracy: 0.7885\n",
            "Epoch 34/50\n",
            "250/250 [==============================] - 73s 290ms/step - loss: 0.0292 - accuracy: 0.9909 - val_loss: 1.2493 - val_accuracy: 0.7905\n",
            "Epoch 35/50\n",
            "250/250 [==============================] - 72s 286ms/step - loss: 0.0215 - accuracy: 0.9936 - val_loss: 1.3691 - val_accuracy: 0.7795\n",
            "Epoch 36/50\n",
            "250/250 [==============================] - 72s 289ms/step - loss: 0.0243 - accuracy: 0.9914 - val_loss: 1.4423 - val_accuracy: 0.7780\n",
            "Epoch 37/50\n",
            "250/250 [==============================] - 72s 288ms/step - loss: 0.0290 - accuracy: 0.9899 - val_loss: 1.4027 - val_accuracy: 0.7855\n",
            "Epoch 38/50\n",
            "250/250 [==============================] - 72s 289ms/step - loss: 0.0238 - accuracy: 0.9911 - val_loss: 1.4650 - val_accuracy: 0.7935\n",
            "Epoch 39/50\n",
            "250/250 [==============================] - 72s 287ms/step - loss: 0.0303 - accuracy: 0.9904 - val_loss: 1.5002 - val_accuracy: 0.7855\n",
            "Epoch 40/50\n",
            "250/250 [==============================] - 71s 284ms/step - loss: 0.0328 - accuracy: 0.9893 - val_loss: 1.3632 - val_accuracy: 0.7920\n",
            "Epoch 41/50\n",
            "250/250 [==============================] - 71s 284ms/step - loss: 0.0358 - accuracy: 0.9883 - val_loss: 1.3179 - val_accuracy: 0.7815\n",
            "Epoch 42/50\n",
            "250/250 [==============================] - 72s 288ms/step - loss: 0.0300 - accuracy: 0.9901 - val_loss: 1.3506 - val_accuracy: 0.7780\n",
            "Epoch 43/50\n",
            "250/250 [==============================] - 72s 287ms/step - loss: 0.0292 - accuracy: 0.9908 - val_loss: 1.4493 - val_accuracy: 0.7750\n",
            "Epoch 44/50\n",
            "250/250 [==============================] - 72s 287ms/step - loss: 0.0338 - accuracy: 0.9891 - val_loss: 1.3858 - val_accuracy: 0.7795\n",
            "Epoch 45/50\n",
            "250/250 [==============================] - 72s 286ms/step - loss: 0.0331 - accuracy: 0.9900 - val_loss: 1.3360 - val_accuracy: 0.7930\n",
            "Epoch 46/50\n",
            "250/250 [==============================] - 73s 290ms/step - loss: 0.0318 - accuracy: 0.9893 - val_loss: 1.4480 - val_accuracy: 0.7820\n",
            "Epoch 47/50\n",
            "250/250 [==============================] - 73s 292ms/step - loss: 0.0274 - accuracy: 0.9911 - val_loss: 1.3406 - val_accuracy: 0.7845\n",
            "Epoch 48/50\n",
            "250/250 [==============================] - 72s 287ms/step - loss: 0.0284 - accuracy: 0.9909 - val_loss: 1.3855 - val_accuracy: 0.7905\n",
            "Epoch 49/50\n",
            "250/250 [==============================] - 72s 286ms/step - loss: 0.0294 - accuracy: 0.9905 - val_loss: 1.4882 - val_accuracy: 0.7810\n",
            "Epoch 50/50\n",
            "250/250 [==============================] - 71s 285ms/step - loss: 0.0311 - accuracy: 0.9893 - val_loss: 1.3330 - val_accuracy: 0.7925\n"
          ]
        },
        {
          "output_type": "execute_result",
          "data": {
            "text/plain": [
              "<keras.callbacks.History at 0x7f101caff8d0>"
            ]
          },
          "metadata": {},
          "execution_count": 19
        }
      ]
    },
    {
      "cell_type": "markdown",
      "source": [
        "Part 4 - Making a single prediction"
      ],
      "metadata": {
        "id": "wZ4I1_s1ySPt"
      }
    },
    {
      "cell_type": "code",
      "source": [
        "import numpy as np\n",
        "from keras.preprocessing import image\n",
        "test_image = image.load_img( 'drive/MyDrive/Study/Superdatascience/resources/dataset/single_prediction/cat_or_dog_1.jpg', target_size = (64, 64))\n",
        "test_image = image.img_to_array(test_image)\n",
        "test_image = np.expand_dims(test_image, axis = 0)\n",
        "\n",
        "result = cnn.predict(test_image/255.0)\n",
        "training_set.class_indices\n",
        "if result[0][0] > 0.5:\n",
        "  prediction = 'dog'\n",
        "else:\n",
        "  prediction = 'cat'"
      ],
      "metadata": {
        "id": "3_HKn8Xmzh48"
      },
      "execution_count": null,
      "outputs": []
    },
    {
      "cell_type": "code",
      "source": [
        "print(prediction)"
      ],
      "metadata": {
        "colab": {
          "base_uri": "https://localhost:8080/"
        },
        "id": "8YlCbWWQub9F",
        "outputId": "75da1357-1297-4d83-f991-c88e73f4f096"
      },
      "execution_count": null,
      "outputs": [
        {
          "output_type": "stream",
          "name": "stdout",
          "text": [
            "cat\n"
          ]
        }
      ]
    }
  ]
}